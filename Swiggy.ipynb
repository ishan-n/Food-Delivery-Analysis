{
 "cells": [
  {
   "cell_type": "code",
   "execution_count": 1,
   "id": "45b7c27a",
   "metadata": {},
   "outputs": [],
   "source": [
    "import pandas as pd\n",
    "import seaborn as sns\n",
    "import matplotlib.pyplot as plt"
   ]
  },
  {
   "cell_type": "code",
   "execution_count": 2,
   "id": "ba6f7013",
   "metadata": {},
   "outputs": [
    {
     "ename": "FileNotFoundError",
     "evalue": "[Errno 2] No such file or directory: 'Swiggy_50.csv'",
     "output_type": "error",
     "traceback": [
      "\u001b[0;31m---------------------------------------------------------------------------\u001b[0m",
      "\u001b[0;31mFileNotFoundError\u001b[0m                         Traceback (most recent call last)",
      "\u001b[0;32m/var/folders/gj/nnzd_bq105s65r5x_8lb4m7c0000gn/T/ipykernel_34202/4133193191.py\u001b[0m in \u001b[0;36m<module>\u001b[0;34m\u001b[0m\n\u001b[0;32m----> 1\u001b[0;31m \u001b[0mdf\u001b[0m \u001b[0;34m=\u001b[0m \u001b[0mpd\u001b[0m\u001b[0;34m.\u001b[0m\u001b[0mread_csv\u001b[0m\u001b[0;34m(\u001b[0m\u001b[0;34m'Swiggy_50.csv'\u001b[0m\u001b[0;34m)\u001b[0m\u001b[0;34m\u001b[0m\u001b[0;34m\u001b[0m\u001b[0m\n\u001b[0m",
      "\u001b[0;32m/opt/anaconda3/lib/python3.9/site-packages/pandas/util/_decorators.py\u001b[0m in \u001b[0;36mwrapper\u001b[0;34m(*args, **kwargs)\u001b[0m\n\u001b[1;32m    309\u001b[0m                     \u001b[0mstacklevel\u001b[0m\u001b[0;34m=\u001b[0m\u001b[0mstacklevel\u001b[0m\u001b[0;34m,\u001b[0m\u001b[0;34m\u001b[0m\u001b[0;34m\u001b[0m\u001b[0m\n\u001b[1;32m    310\u001b[0m                 )\n\u001b[0;32m--> 311\u001b[0;31m             \u001b[0;32mreturn\u001b[0m \u001b[0mfunc\u001b[0m\u001b[0;34m(\u001b[0m\u001b[0;34m*\u001b[0m\u001b[0margs\u001b[0m\u001b[0;34m,\u001b[0m \u001b[0;34m**\u001b[0m\u001b[0mkwargs\u001b[0m\u001b[0;34m)\u001b[0m\u001b[0;34m\u001b[0m\u001b[0;34m\u001b[0m\u001b[0m\n\u001b[0m\u001b[1;32m    312\u001b[0m \u001b[0;34m\u001b[0m\u001b[0m\n\u001b[1;32m    313\u001b[0m         \u001b[0;32mreturn\u001b[0m \u001b[0mwrapper\u001b[0m\u001b[0;34m\u001b[0m\u001b[0;34m\u001b[0m\u001b[0m\n",
      "\u001b[0;32m/opt/anaconda3/lib/python3.9/site-packages/pandas/io/parsers/readers.py\u001b[0m in \u001b[0;36mread_csv\u001b[0;34m(filepath_or_buffer, sep, delimiter, header, names, index_col, usecols, squeeze, prefix, mangle_dupe_cols, dtype, engine, converters, true_values, false_values, skipinitialspace, skiprows, skipfooter, nrows, na_values, keep_default_na, na_filter, verbose, skip_blank_lines, parse_dates, infer_datetime_format, keep_date_col, date_parser, dayfirst, cache_dates, iterator, chunksize, compression, thousands, decimal, lineterminator, quotechar, quoting, doublequote, escapechar, comment, encoding, encoding_errors, dialect, error_bad_lines, warn_bad_lines, on_bad_lines, delim_whitespace, low_memory, memory_map, float_precision, storage_options)\u001b[0m\n\u001b[1;32m    584\u001b[0m     \u001b[0mkwds\u001b[0m\u001b[0;34m.\u001b[0m\u001b[0mupdate\u001b[0m\u001b[0;34m(\u001b[0m\u001b[0mkwds_defaults\u001b[0m\u001b[0;34m)\u001b[0m\u001b[0;34m\u001b[0m\u001b[0;34m\u001b[0m\u001b[0m\n\u001b[1;32m    585\u001b[0m \u001b[0;34m\u001b[0m\u001b[0m\n\u001b[0;32m--> 586\u001b[0;31m     \u001b[0;32mreturn\u001b[0m \u001b[0m_read\u001b[0m\u001b[0;34m(\u001b[0m\u001b[0mfilepath_or_buffer\u001b[0m\u001b[0;34m,\u001b[0m \u001b[0mkwds\u001b[0m\u001b[0;34m)\u001b[0m\u001b[0;34m\u001b[0m\u001b[0;34m\u001b[0m\u001b[0m\n\u001b[0m\u001b[1;32m    587\u001b[0m \u001b[0;34m\u001b[0m\u001b[0m\n\u001b[1;32m    588\u001b[0m \u001b[0;34m\u001b[0m\u001b[0m\n",
      "\u001b[0;32m/opt/anaconda3/lib/python3.9/site-packages/pandas/io/parsers/readers.py\u001b[0m in \u001b[0;36m_read\u001b[0;34m(filepath_or_buffer, kwds)\u001b[0m\n\u001b[1;32m    480\u001b[0m \u001b[0;34m\u001b[0m\u001b[0m\n\u001b[1;32m    481\u001b[0m     \u001b[0;31m# Create the parser.\u001b[0m\u001b[0;34m\u001b[0m\u001b[0;34m\u001b[0m\u001b[0m\n\u001b[0;32m--> 482\u001b[0;31m     \u001b[0mparser\u001b[0m \u001b[0;34m=\u001b[0m \u001b[0mTextFileReader\u001b[0m\u001b[0;34m(\u001b[0m\u001b[0mfilepath_or_buffer\u001b[0m\u001b[0;34m,\u001b[0m \u001b[0;34m**\u001b[0m\u001b[0mkwds\u001b[0m\u001b[0;34m)\u001b[0m\u001b[0;34m\u001b[0m\u001b[0;34m\u001b[0m\u001b[0m\n\u001b[0m\u001b[1;32m    483\u001b[0m \u001b[0;34m\u001b[0m\u001b[0m\n\u001b[1;32m    484\u001b[0m     \u001b[0;32mif\u001b[0m \u001b[0mchunksize\u001b[0m \u001b[0;32mor\u001b[0m \u001b[0miterator\u001b[0m\u001b[0;34m:\u001b[0m\u001b[0;34m\u001b[0m\u001b[0;34m\u001b[0m\u001b[0m\n",
      "\u001b[0;32m/opt/anaconda3/lib/python3.9/site-packages/pandas/io/parsers/readers.py\u001b[0m in \u001b[0;36m__init__\u001b[0;34m(self, f, engine, **kwds)\u001b[0m\n\u001b[1;32m    809\u001b[0m             \u001b[0mself\u001b[0m\u001b[0;34m.\u001b[0m\u001b[0moptions\u001b[0m\u001b[0;34m[\u001b[0m\u001b[0;34m\"has_index_names\"\u001b[0m\u001b[0;34m]\u001b[0m \u001b[0;34m=\u001b[0m \u001b[0mkwds\u001b[0m\u001b[0;34m[\u001b[0m\u001b[0;34m\"has_index_names\"\u001b[0m\u001b[0;34m]\u001b[0m\u001b[0;34m\u001b[0m\u001b[0;34m\u001b[0m\u001b[0m\n\u001b[1;32m    810\u001b[0m \u001b[0;34m\u001b[0m\u001b[0m\n\u001b[0;32m--> 811\u001b[0;31m         \u001b[0mself\u001b[0m\u001b[0;34m.\u001b[0m\u001b[0m_engine\u001b[0m \u001b[0;34m=\u001b[0m \u001b[0mself\u001b[0m\u001b[0;34m.\u001b[0m\u001b[0m_make_engine\u001b[0m\u001b[0;34m(\u001b[0m\u001b[0mself\u001b[0m\u001b[0;34m.\u001b[0m\u001b[0mengine\u001b[0m\u001b[0;34m)\u001b[0m\u001b[0;34m\u001b[0m\u001b[0;34m\u001b[0m\u001b[0m\n\u001b[0m\u001b[1;32m    812\u001b[0m \u001b[0;34m\u001b[0m\u001b[0m\n\u001b[1;32m    813\u001b[0m     \u001b[0;32mdef\u001b[0m \u001b[0mclose\u001b[0m\u001b[0;34m(\u001b[0m\u001b[0mself\u001b[0m\u001b[0;34m)\u001b[0m\u001b[0;34m:\u001b[0m\u001b[0;34m\u001b[0m\u001b[0;34m\u001b[0m\u001b[0m\n",
      "\u001b[0;32m/opt/anaconda3/lib/python3.9/site-packages/pandas/io/parsers/readers.py\u001b[0m in \u001b[0;36m_make_engine\u001b[0;34m(self, engine)\u001b[0m\n\u001b[1;32m   1038\u001b[0m             )\n\u001b[1;32m   1039\u001b[0m         \u001b[0;31m# error: Too many arguments for \"ParserBase\"\u001b[0m\u001b[0;34m\u001b[0m\u001b[0;34m\u001b[0m\u001b[0m\n\u001b[0;32m-> 1040\u001b[0;31m         \u001b[0;32mreturn\u001b[0m \u001b[0mmapping\u001b[0m\u001b[0;34m[\u001b[0m\u001b[0mengine\u001b[0m\u001b[0;34m]\u001b[0m\u001b[0;34m(\u001b[0m\u001b[0mself\u001b[0m\u001b[0;34m.\u001b[0m\u001b[0mf\u001b[0m\u001b[0;34m,\u001b[0m \u001b[0;34m**\u001b[0m\u001b[0mself\u001b[0m\u001b[0;34m.\u001b[0m\u001b[0moptions\u001b[0m\u001b[0;34m)\u001b[0m  \u001b[0;31m# type: ignore[call-arg]\u001b[0m\u001b[0;34m\u001b[0m\u001b[0;34m\u001b[0m\u001b[0m\n\u001b[0m\u001b[1;32m   1041\u001b[0m \u001b[0;34m\u001b[0m\u001b[0m\n\u001b[1;32m   1042\u001b[0m     \u001b[0;32mdef\u001b[0m \u001b[0m_failover_to_python\u001b[0m\u001b[0;34m(\u001b[0m\u001b[0mself\u001b[0m\u001b[0;34m)\u001b[0m\u001b[0;34m:\u001b[0m\u001b[0;34m\u001b[0m\u001b[0;34m\u001b[0m\u001b[0m\n",
      "\u001b[0;32m/opt/anaconda3/lib/python3.9/site-packages/pandas/io/parsers/c_parser_wrapper.py\u001b[0m in \u001b[0;36m__init__\u001b[0;34m(self, src, **kwds)\u001b[0m\n\u001b[1;32m     49\u001b[0m \u001b[0;34m\u001b[0m\u001b[0m\n\u001b[1;32m     50\u001b[0m         \u001b[0;31m# open handles\u001b[0m\u001b[0;34m\u001b[0m\u001b[0;34m\u001b[0m\u001b[0m\n\u001b[0;32m---> 51\u001b[0;31m         \u001b[0mself\u001b[0m\u001b[0;34m.\u001b[0m\u001b[0m_open_handles\u001b[0m\u001b[0;34m(\u001b[0m\u001b[0msrc\u001b[0m\u001b[0;34m,\u001b[0m \u001b[0mkwds\u001b[0m\u001b[0;34m)\u001b[0m\u001b[0;34m\u001b[0m\u001b[0;34m\u001b[0m\u001b[0m\n\u001b[0m\u001b[1;32m     52\u001b[0m         \u001b[0;32massert\u001b[0m \u001b[0mself\u001b[0m\u001b[0;34m.\u001b[0m\u001b[0mhandles\u001b[0m \u001b[0;32mis\u001b[0m \u001b[0;32mnot\u001b[0m \u001b[0;32mNone\u001b[0m\u001b[0;34m\u001b[0m\u001b[0;34m\u001b[0m\u001b[0m\n\u001b[1;32m     53\u001b[0m \u001b[0;34m\u001b[0m\u001b[0m\n",
      "\u001b[0;32m/opt/anaconda3/lib/python3.9/site-packages/pandas/io/parsers/base_parser.py\u001b[0m in \u001b[0;36m_open_handles\u001b[0;34m(self, src, kwds)\u001b[0m\n\u001b[1;32m    220\u001b[0m         \u001b[0mLet\u001b[0m \u001b[0mthe\u001b[0m \u001b[0mreaders\u001b[0m \u001b[0mopen\u001b[0m \u001b[0mIOHandles\u001b[0m \u001b[0mafter\u001b[0m \u001b[0mthey\u001b[0m \u001b[0mare\u001b[0m \u001b[0mdone\u001b[0m \u001b[0;32mwith\u001b[0m \u001b[0mtheir\u001b[0m \u001b[0mpotential\u001b[0m \u001b[0mraises\u001b[0m\u001b[0;34m.\u001b[0m\u001b[0;34m\u001b[0m\u001b[0;34m\u001b[0m\u001b[0m\n\u001b[1;32m    221\u001b[0m         \"\"\"\n\u001b[0;32m--> 222\u001b[0;31m         self.handles = get_handle(\n\u001b[0m\u001b[1;32m    223\u001b[0m             \u001b[0msrc\u001b[0m\u001b[0;34m,\u001b[0m\u001b[0;34m\u001b[0m\u001b[0;34m\u001b[0m\u001b[0m\n\u001b[1;32m    224\u001b[0m             \u001b[0;34m\"r\"\u001b[0m\u001b[0;34m,\u001b[0m\u001b[0;34m\u001b[0m\u001b[0;34m\u001b[0m\u001b[0m\n",
      "\u001b[0;32m/opt/anaconda3/lib/python3.9/site-packages/pandas/io/common.py\u001b[0m in \u001b[0;36mget_handle\u001b[0;34m(path_or_buf, mode, encoding, compression, memory_map, is_text, errors, storage_options)\u001b[0m\n\u001b[1;32m    700\u001b[0m         \u001b[0;32mif\u001b[0m \u001b[0mioargs\u001b[0m\u001b[0;34m.\u001b[0m\u001b[0mencoding\u001b[0m \u001b[0;32mand\u001b[0m \u001b[0;34m\"b\"\u001b[0m \u001b[0;32mnot\u001b[0m \u001b[0;32min\u001b[0m \u001b[0mioargs\u001b[0m\u001b[0;34m.\u001b[0m\u001b[0mmode\u001b[0m\u001b[0;34m:\u001b[0m\u001b[0;34m\u001b[0m\u001b[0;34m\u001b[0m\u001b[0m\n\u001b[1;32m    701\u001b[0m             \u001b[0;31m# Encoding\u001b[0m\u001b[0;34m\u001b[0m\u001b[0;34m\u001b[0m\u001b[0m\n\u001b[0;32m--> 702\u001b[0;31m             handle = open(\n\u001b[0m\u001b[1;32m    703\u001b[0m                 \u001b[0mhandle\u001b[0m\u001b[0;34m,\u001b[0m\u001b[0;34m\u001b[0m\u001b[0;34m\u001b[0m\u001b[0m\n\u001b[1;32m    704\u001b[0m                 \u001b[0mioargs\u001b[0m\u001b[0;34m.\u001b[0m\u001b[0mmode\u001b[0m\u001b[0;34m,\u001b[0m\u001b[0;34m\u001b[0m\u001b[0;34m\u001b[0m\u001b[0m\n",
      "\u001b[0;31mFileNotFoundError\u001b[0m: [Errno 2] No such file or directory: 'Swiggy_50.csv'"
     ]
    }
   ],
   "source": [
    "df = pd.read_csv('Swiggy_50.csv')"
   ]
  },
  {
   "cell_type": "code",
   "execution_count": 63,
   "id": "d176578b",
   "metadata": {},
   "outputs": [
    {
     "data": {
      "text/plain": [
       "(31804, 10)"
      ]
     },
     "execution_count": 63,
     "metadata": {},
     "output_type": "execute_result"
    }
   ],
   "source": [
    "#Check for the number of rows and columns of dataset\n",
    "df.shape"
   ]
  },
  {
   "cell_type": "code",
   "execution_count": 3,
   "id": "f52ebf63",
   "metadata": {},
   "outputs": [
    {
     "data": {
      "text/html": [
       "<div>\n",
       "<style scoped>\n",
       "    .dataframe tbody tr th:only-of-type {\n",
       "        vertical-align: middle;\n",
       "    }\n",
       "\n",
       "    .dataframe tbody tr th {\n",
       "        vertical-align: top;\n",
       "    }\n",
       "\n",
       "    .dataframe thead th {\n",
       "        text-align: right;\n",
       "    }\n",
       "</style>\n",
       "<table border=\"1\" class=\"dataframe\">\n",
       "  <thead>\n",
       "    <tr style=\"text-align: right;\">\n",
       "      <th></th>\n",
       "      <th>Restaurant Name</th>\n",
       "      <th>Category</th>\n",
       "      <th>Rating</th>\n",
       "      <th>Cost for two</th>\n",
       "      <th>Veg</th>\n",
       "      <th>city</th>\n",
       "      <th>Area</th>\n",
       "      <th>Locality</th>\n",
       "      <th>Address</th>\n",
       "      <th>Long Distance Delivery</th>\n",
       "    </tr>\n",
       "  </thead>\n",
       "  <tbody>\n",
       "    <tr>\n",
       "      <th>0</th>\n",
       "      <td>KFC</td>\n",
       "      <td>American,Snacks,Biryani</td>\n",
       "      <td>3.9</td>\n",
       "      <td>400</td>\n",
       "      <td>False</td>\n",
       "      <td>Delhi</td>\n",
       "      <td>Paharganj</td>\n",
       "      <td>KFC Paharganj</td>\n",
       "      <td>KFC Restaurant 2154, Desh Bandhu Gupta Road, N...</td>\n",
       "      <td>0</td>\n",
       "    </tr>\n",
       "    <tr>\n",
       "      <th>1</th>\n",
       "      <td>McDonald's</td>\n",
       "      <td>American</td>\n",
       "      <td>4.3</td>\n",
       "      <td>400</td>\n",
       "      <td>False</td>\n",
       "      <td>Delhi</td>\n",
       "      <td>Kashmere Gate</td>\n",
       "      <td>Delhi ISBT DMRC (GF)</td>\n",
       "      <td>Delhi ISBT DMRC,ISBT DMRC Railway Station. Kas...</td>\n",
       "      <td>0</td>\n",
       "    </tr>\n",
       "    <tr>\n",
       "      <th>2</th>\n",
       "      <td>Haldiram's</td>\n",
       "      <td>Sweets,Snacks,North Indian</td>\n",
       "      <td>4.0</td>\n",
       "      <td>350</td>\n",
       "      <td>True</td>\n",
       "      <td>Delhi</td>\n",
       "      <td>Chandni Chowk</td>\n",
       "      <td>Chandni Chowk</td>\n",
       "      <td>1452/2 Near Fountain Chandni Chowk Delhi 110015</td>\n",
       "      <td>0</td>\n",
       "    </tr>\n",
       "    <tr>\n",
       "      <th>3</th>\n",
       "      <td>Chai Point</td>\n",
       "      <td>Bakery,Beverages,Maharashtrian,Snacks,Street F...</td>\n",
       "      <td>4.2</td>\n",
       "      <td>150</td>\n",
       "      <td>False</td>\n",
       "      <td>Delhi</td>\n",
       "      <td>Connaught Place</td>\n",
       "      <td>Connaught Place</td>\n",
       "      <td>Shop No - B1, B Block Middle circle , Connaugh...</td>\n",
       "      <td>0</td>\n",
       "    </tr>\n",
       "    <tr>\n",
       "      <th>4</th>\n",
       "      <td>Bikanervala Chandni Chowk</td>\n",
       "      <td>Street Food,Sweets</td>\n",
       "      <td>4.1</td>\n",
       "      <td>400</td>\n",
       "      <td>False</td>\n",
       "      <td>Delhi</td>\n",
       "      <td>Old Delhi</td>\n",
       "      <td>Old Delhi</td>\n",
       "      <td>382, NEAR FATEH PUR, CHANDNI CHOWK,110006</td>\n",
       "      <td>0</td>\n",
       "    </tr>\n",
       "    <tr>\n",
       "      <th>5</th>\n",
       "      <td>La Pino'z Pizza</td>\n",
       "      <td>Italian,Pizzas,Fast Food,Mexican,Desserts,Beve...</td>\n",
       "      <td>3.7</td>\n",
       "      <td>250</td>\n",
       "      <td>False</td>\n",
       "      <td>Delhi</td>\n",
       "      <td>Kamla Nagar</td>\n",
       "      <td>Kamla Nagar</td>\n",
       "      <td>5888, 28UA, Jawahar Nagar, Kamla Nagar, Delhi,...</td>\n",
       "      <td>0</td>\n",
       "    </tr>\n",
       "    <tr>\n",
       "      <th>6</th>\n",
       "      <td>Burger King</td>\n",
       "      <td>American</td>\n",
       "      <td>4.2</td>\n",
       "      <td>350</td>\n",
       "      <td>False</td>\n",
       "      <td>Delhi</td>\n",
       "      <td>Connaught Place</td>\n",
       "      <td>New Delhi Railway Station</td>\n",
       "      <td>Commercial Site,New Delhi Railway Station,DMRC...</td>\n",
       "      <td>0</td>\n",
       "    </tr>\n",
       "    <tr>\n",
       "      <th>7</th>\n",
       "      <td>Chaayos Chai+Snacks=Relax</td>\n",
       "      <td>Bakery,Beverages,Chaat,Desserts,Home Food,Ital...</td>\n",
       "      <td>4.2</td>\n",
       "      <td>250</td>\n",
       "      <td>False</td>\n",
       "      <td>Delhi</td>\n",
       "      <td>Kashmere Gate</td>\n",
       "      <td>Chaayos Kashmere Gate, Tis Hazari</td>\n",
       "      <td>Unit No 07, Kashmiri Gate Metro Delhi New Delh...</td>\n",
       "      <td>0</td>\n",
       "    </tr>\n",
       "    <tr>\n",
       "      <th>8</th>\n",
       "      <td>Capten Milkshakes</td>\n",
       "      <td>Beverages</td>\n",
       "      <td>NaN</td>\n",
       "      <td>300</td>\n",
       "      <td>True</td>\n",
       "      <td>Delhi</td>\n",
       "      <td>Chandni Chowk</td>\n",
       "      <td>CHANDNI CHOWK</td>\n",
       "      <td>1215, Main Chandni Chowk Road, Opposite New Ka...</td>\n",
       "      <td>0</td>\n",
       "    </tr>\n",
       "    <tr>\n",
       "      <th>9</th>\n",
       "      <td>The Brijwasi Restaurant</td>\n",
       "      <td>North Indian,South Indian,Continental,Chinese</td>\n",
       "      <td>NaN</td>\n",
       "      <td>300</td>\n",
       "      <td>False</td>\n",
       "      <td>Delhi</td>\n",
       "      <td>Chandni Chowk</td>\n",
       "      <td>Chandni Chowk</td>\n",
       "      <td>379, Near Kucha Ghasi Ram, Chandni Chowk, New ...</td>\n",
       "      <td>0</td>\n",
       "    </tr>\n",
       "  </tbody>\n",
       "</table>\n",
       "</div>"
      ],
      "text/plain": [
       "             Restaurant Name  \\\n",
       "0                        KFC   \n",
       "1                 McDonald's   \n",
       "2                 Haldiram's   \n",
       "3                 Chai Point   \n",
       "4  Bikanervala Chandni Chowk   \n",
       "5           La Pino'z Pizza    \n",
       "6                Burger King   \n",
       "7  Chaayos Chai+Snacks=Relax   \n",
       "8          Capten Milkshakes   \n",
       "9    The Brijwasi Restaurant   \n",
       "\n",
       "                                            Category  Rating  Cost for two  \\\n",
       "0                            American,Snacks,Biryani     3.9           400   \n",
       "1                                           American     4.3           400   \n",
       "2                         Sweets,Snacks,North Indian     4.0           350   \n",
       "3  Bakery,Beverages,Maharashtrian,Snacks,Street F...     4.2           150   \n",
       "4                                 Street Food,Sweets     4.1           400   \n",
       "5  Italian,Pizzas,Fast Food,Mexican,Desserts,Beve...     3.7           250   \n",
       "6                                           American     4.2           350   \n",
       "7  Bakery,Beverages,Chaat,Desserts,Home Food,Ital...     4.2           250   \n",
       "8                                          Beverages     NaN           300   \n",
       "9      North Indian,South Indian,Continental,Chinese     NaN           300   \n",
       "\n",
       "     Veg   city             Area                           Locality  \\\n",
       "0  False  Delhi        Paharganj                      KFC Paharganj   \n",
       "1  False  Delhi    Kashmere Gate               Delhi ISBT DMRC (GF)   \n",
       "2   True  Delhi    Chandni Chowk                      Chandni Chowk   \n",
       "3  False  Delhi  Connaught Place                    Connaught Place   \n",
       "4  False  Delhi        Old Delhi                          Old Delhi   \n",
       "5  False  Delhi      Kamla Nagar                        Kamla Nagar   \n",
       "6  False  Delhi  Connaught Place          New Delhi Railway Station   \n",
       "7  False  Delhi    Kashmere Gate  Chaayos Kashmere Gate, Tis Hazari   \n",
       "8   True  Delhi    Chandni Chowk                      CHANDNI CHOWK   \n",
       "9  False  Delhi    Chandni Chowk                      Chandni Chowk   \n",
       "\n",
       "                                             Address  Long Distance Delivery  \n",
       "0  KFC Restaurant 2154, Desh Bandhu Gupta Road, N...                       0  \n",
       "1  Delhi ISBT DMRC,ISBT DMRC Railway Station. Kas...                       0  \n",
       "2    1452/2 Near Fountain Chandni Chowk Delhi 110015                       0  \n",
       "3  Shop No - B1, B Block Middle circle , Connaugh...                       0  \n",
       "4          382, NEAR FATEH PUR, CHANDNI CHOWK,110006                       0  \n",
       "5  5888, 28UA, Jawahar Nagar, Kamla Nagar, Delhi,...                       0  \n",
       "6  Commercial Site,New Delhi Railway Station,DMRC...                       0  \n",
       "7  Unit No 07, Kashmiri Gate Metro Delhi New Delh...                       0  \n",
       "8  1215, Main Chandni Chowk Road, Opposite New Ka...                       0  \n",
       "9  379, Near Kucha Ghasi Ram, Chandni Chowk, New ...                       0  "
      ]
     },
     "execution_count": 3,
     "metadata": {},
     "output_type": "execute_result"
    }
   ],
   "source": [
    "#Get a glimpse of how the data looks\n",
    "df.head(10)"
   ]
  },
  {
   "cell_type": "code",
   "execution_count": 16,
   "id": "0c2fd004",
   "metadata": {},
   "outputs": [
    {
     "data": {
      "text/plain": [
       "Index(['Restaurant Name', 'Category', 'Rating', 'Cost for two', 'Veg', 'city',\n",
       "       'Area', 'Locality', 'Address', 'Long Distance Delivery'],\n",
       "      dtype='object')"
      ]
     },
     "execution_count": 16,
     "metadata": {},
     "output_type": "execute_result"
    }
   ],
   "source": [
    "# Check column names\n",
    "df.columns"
   ]
  },
  {
   "cell_type": "code",
   "execution_count": 6,
   "id": "f1e5ae1f",
   "metadata": {},
   "outputs": [
    {
     "data": {
      "text/plain": [
       "Restaurant Name           27871\n",
       "Category                   9475\n",
       "Rating                       39\n",
       "Cost for two                167\n",
       "Veg                           2\n",
       "city                         49\n",
       "Area                       3592\n",
       "Locality                   5024\n",
       "Address                   28109\n",
       "Long Distance Delivery        2\n",
       "dtype: int64"
      ]
     },
     "execution_count": 6,
     "metadata": {},
     "output_type": "execute_result"
    }
   ],
   "source": [
    "# Check number of uniques in each column\n",
    "df.nunique()"
   ]
  },
  {
   "cell_type": "code",
   "execution_count": 5,
   "id": "bfdabc19",
   "metadata": {},
   "outputs": [
    {
     "data": {
      "text/plain": [
       "array(['Delhi', 'Mumbai', 'Kolkata', 'Bangalore', 'Chennai', 'Hyderabad',\n",
       "       'Pune', 'Ahmedabad', 'Surat', 'Lucknow', 'Jaipur', 'Cawnpore',\n",
       "       'Mirzapur', 'Nagpur', 'Ghaziabad', 'Indore', 'Vadodara',\n",
       "       'Vishakhapatnam', 'Bhopal', 'Chinchvad', 'Patna', 'Ludhiana',\n",
       "       'Agra', 'Kalyan', 'Madurai', 'Jamshedpur', 'Nasik', 'Faridabad',\n",
       "       'Aurangabad', 'Rajkot', 'Meerut', 'Jabalpur', 'Thane', 'Dhanbad',\n",
       "       'Allahabad', 'Varanasi', 'Amritsar', 'Aligarh', 'Bhiwandi',\n",
       "       'Gwalior', 'Bhilai', 'Haora', 'Ranchi', 'Bezwada', 'Chandigarh',\n",
       "       'Mysore', 'Raipur', 'Kota', 'Bareilly'], dtype=object)"
      ]
     },
     "execution_count": 5,
     "metadata": {},
     "output_type": "execute_result"
    }
   ],
   "source": [
    "# Look at unique names in a particular column\n",
    "df[\"city\"].unique()"
   ]
  },
  {
   "cell_type": "code",
   "execution_count": 89,
   "id": "1ea25aa2",
   "metadata": {},
   "outputs": [
    {
     "data": {
      "text/html": [
       "<div>\n",
       "<style scoped>\n",
       "    .dataframe tbody tr th:only-of-type {\n",
       "        vertical-align: middle;\n",
       "    }\n",
       "\n",
       "    .dataframe tbody tr th {\n",
       "        vertical-align: top;\n",
       "    }\n",
       "\n",
       "    .dataframe thead th {\n",
       "        text-align: right;\n",
       "    }\n",
       "</style>\n",
       "<table border=\"1\" class=\"dataframe\">\n",
       "  <thead>\n",
       "    <tr style=\"text-align: right;\">\n",
       "      <th></th>\n",
       "      <th>Rating</th>\n",
       "      <th>Cost for two</th>\n",
       "    </tr>\n",
       "  </thead>\n",
       "  <tbody>\n",
       "    <tr>\n",
       "      <th>min</th>\n",
       "      <td>1.1</td>\n",
       "      <td>0</td>\n",
       "    </tr>\n",
       "    <tr>\n",
       "      <th>max</th>\n",
       "      <td>5.0</td>\n",
       "      <td>3100</td>\n",
       "    </tr>\n",
       "  </tbody>\n",
       "</table>\n",
       "</div>"
      ],
      "text/plain": [
       "     Rating  Cost for two\n",
       "min     1.1             0\n",
       "max     5.0          3100"
      ]
     },
     "execution_count": 89,
     "metadata": {},
     "output_type": "execute_result"
    }
   ],
   "source": [
    "# Get min max of each numeric attribute\n",
    "\n",
    "#df_minmax = df[[\"Rating\",\"Cost for two\"]]\n",
    "#def minMax(x):\n",
    "#    return pd.Series(index=['min','max'],data=[x.min(),x.max()])\n",
    "df_minmax.apply(minMax)"
   ]
  },
  {
   "cell_type": "code",
   "execution_count": 92,
   "id": "3217c912",
   "metadata": {},
   "outputs": [],
   "source": [
    "#"
   ]
  },
  {
   "cell_type": "code",
   "execution_count": 49,
   "id": "06fbc4de",
   "metadata": {},
   "outputs": [
    {
     "data": {
      "text/plain": [
       "Restaurant Name               0\n",
       "Category                      0\n",
       "Rating                    17666\n",
       "Cost for two                  0\n",
       "Veg                           0\n",
       "city                          0\n",
       "Area                          0\n",
       "Locality                     24\n",
       "Address                       2\n",
       "Long Distance Delivery        0\n",
       "dtype: int64"
      ]
     },
     "execution_count": 49,
     "metadata": {},
     "output_type": "execute_result"
    }
   ],
   "source": [
    "#Check for number of Null Values in each column\n",
    "df.isnull().sum()"
   ]
  },
  {
   "cell_type": "code",
   "execution_count": 168,
   "id": "12b9f998",
   "metadata": {},
   "outputs": [
    {
     "data": {
      "text/plain": [
       "0"
      ]
     },
     "execution_count": 168,
     "metadata": {},
     "output_type": "execute_result"
    }
   ],
   "source": [
    "# Check for dupliactes\n",
    "df.duplicated().sum()"
   ]
  },
  {
   "cell_type": "code",
   "execution_count": 97,
   "id": "4999d88a",
   "metadata": {},
   "outputs": [
    {
     "data": {
      "text/html": [
       "<div>\n",
       "<style scoped>\n",
       "    .dataframe tbody tr th:only-of-type {\n",
       "        vertical-align: middle;\n",
       "    }\n",
       "\n",
       "    .dataframe tbody tr th {\n",
       "        vertical-align: top;\n",
       "    }\n",
       "\n",
       "    .dataframe thead th {\n",
       "        text-align: right;\n",
       "    }\n",
       "</style>\n",
       "<table border=\"1\" class=\"dataframe\">\n",
       "  <thead>\n",
       "    <tr style=\"text-align: right;\">\n",
       "      <th></th>\n",
       "      <th>Restaurant Name</th>\n",
       "      <th>Category</th>\n",
       "      <th>Rating</th>\n",
       "      <th>Cost for two</th>\n",
       "      <th>Veg</th>\n",
       "      <th>city</th>\n",
       "      <th>Area</th>\n",
       "      <th>Locality</th>\n",
       "      <th>Address</th>\n",
       "      <th>Long Distance Delivery</th>\n",
       "    </tr>\n",
       "  </thead>\n",
       "  <tbody>\n",
       "    <tr>\n",
       "      <th>14655</th>\n",
       "      <td>Da Dietoz Cafe</td>\n",
       "      <td>Fast Food,Beverages</td>\n",
       "      <td>NaN</td>\n",
       "      <td>200</td>\n",
       "      <td>False</td>\n",
       "      <td>Ghaziabad</td>\n",
       "      <td>Sahibabad</td>\n",
       "      <td>Rajendra Nagar Sahibabad</td>\n",
       "      <td>NaN</td>\n",
       "      <td>1</td>\n",
       "    </tr>\n",
       "    <tr>\n",
       "      <th>17829</th>\n",
       "      <td>Food n fry</td>\n",
       "      <td>Indian</td>\n",
       "      <td>NaN</td>\n",
       "      <td>600</td>\n",
       "      <td>False</td>\n",
       "      <td>Bhopal</td>\n",
       "      <td>Jahangirabad</td>\n",
       "      <td>Jahangirabad</td>\n",
       "      <td>NaN</td>\n",
       "      <td>1</td>\n",
       "    </tr>\n",
       "  </tbody>\n",
       "</table>\n",
       "</div>"
      ],
      "text/plain": [
       "      Restaurant Name             Category  Rating  Cost for two    Veg  \\\n",
       "14655  Da Dietoz Cafe  Fast Food,Beverages     NaN           200  False   \n",
       "17829      Food n fry               Indian     NaN           600  False   \n",
       "\n",
       "            city          Area                  Locality Address  \\\n",
       "14655  Ghaziabad     Sahibabad  Rajendra Nagar Sahibabad     NaN   \n",
       "17829     Bhopal  Jahangirabad              Jahangirabad     NaN   \n",
       "\n",
       "       Long Distance Delivery  \n",
       "14655                       1  \n",
       "17829                       1  "
      ]
     },
     "execution_count": 97,
     "metadata": {},
     "output_type": "execute_result"
    }
   ],
   "source": [
    "#print all null value rows in particular column\n",
    "df[df['Address'].isna()]"
   ]
  },
  {
   "cell_type": "code",
   "execution_count": 8,
   "id": "df2f8101",
   "metadata": {},
   "outputs": [],
   "source": [
    "df_clean = df.dropna()\n",
    "#14,120 rows left"
   ]
  },
  {
   "cell_type": "code",
   "execution_count": 133,
   "id": "dff94531",
   "metadata": {},
   "outputs": [],
   "source": [
    "##df['Rating'].value_counts(ascending=False)"
   ]
  },
  {
   "cell_type": "code",
   "execution_count": 131,
   "id": "b923a562",
   "metadata": {},
   "outputs": [],
   "source": [
    "# Look at how dupliacate restaurant names data is layered\n",
    "#pd.concat(g for _, g in df.groupby(\"Restaurant Name\") if len(g) > 1)"
   ]
  },
  {
   "cell_type": "code",
   "execution_count": 192,
   "id": "547cc547",
   "metadata": {},
   "outputs": [
    {
     "data": {
      "text/plain": [
       "False    20231\n",
       "True      8078\n",
       "Name: Veg, dtype: int64"
      ]
     },
     "execution_count": 192,
     "metadata": {},
     "output_type": "execute_result"
    }
   ],
   "source": [
    "# How Many Veg/Non Veg restaurants\n",
    "df_slice = df[[\"Restaurant Name\",\"Veg\"]]\n",
    "df_slice = df_slice.drop_duplicates()\n",
    "df_slice[\"Veg\"].value_counts()"
   ]
  },
  {
   "cell_type": "code",
   "execution_count": 193,
   "id": "458eae80",
   "metadata": {},
   "outputs": [
    {
     "data": {
      "text/plain": [
       "438"
      ]
     },
     "execution_count": 193,
     "metadata": {},
     "output_type": "execute_result"
    }
   ],
   "source": [
    "# How Many restuarants have Veg and Non Veg seperate establishments\n",
    "df_BothVeg = pd.concat(g for _, g in df_slice.groupby(\"Restaurant Name\") if len(g) > 1)\n",
    "df_BothVeg[\"Restaurant Name\"].nunique()"
   ]
  },
  {
   "cell_type": "code",
   "execution_count": 13,
   "id": "79a09d14",
   "metadata": {},
   "outputs": [
    {
     "data": {
      "text/plain": [
       "155"
      ]
     },
     "execution_count": 13,
     "metadata": {},
     "output_type": "execute_result"
    }
   ],
   "source": [
    "# How many restaurants with a Rating >= 4.5 in Mumbai\n",
    "df_new = df_clean[(df_clean.Rating >= 4.5) & (df_clean.city == 'Mumbai')]\n",
    "df_new[\"Restaurant Name\"].nunique()"
   ]
  },
  {
   "cell_type": "code",
   "execution_count": 205,
   "id": "18fde66a",
   "metadata": {},
   "outputs": [],
   "source": [
    "#Average cost for two for restaurants by city with a Rating >= 4.5\n",
    "df_new = df_clean[(df_clean.Rating >= 4.5)] \n",
    "df_new_bar1 = df_new.groupby([\"city\"])[\"Cost for two\"].mean().round(decimals=1).sort_values(ascending=False)\n",
    "df_1 = pd.DataFrame(df_new_bar1)"
   ]
  },
  {
   "cell_type": "code",
   "execution_count": 209,
   "id": "21959382",
   "metadata": {},
   "outputs": [
    {
     "data": {
      "image/png": "[encoded data removed]",
      "text/plain": [
       "<Figure size 864x360 with 1 Axes>"
      ]
     },
     "metadata": {
      "needs_background": "light"
     },
     "output_type": "display_data"
    }
   ],
   "source": [
    "#Bar Plot to show the above\n",
    "df_1.head(10).plot(kind=\"barh\",figsize=(12, 5))\n",
    "plt.title(\"Avg Cost for Two by City for Ratings>=4.5\")\n",
    "plt.xlabel(\"Average Cost\")\n",
    "plt.ylabel(\"City\")\n",
    "\n",
    "for index, value in enumerate(df_1[\"Cost for two\"].head(10)):\n",
    "    plt.text(value, index,str(value))"
   ]
  },
  {
   "cell_type": "code",
   "execution_count": null,
   "id": "332cd860",
   "metadata": {},
   "outputs": [],
   "source": [
    "# Get the top 2 Rated Restaurants in each Category for Mumbai\n",
    "df_set1 = df_clean[(df_clean.city == 'Mumbai')] ## Mumbai Dataset\n",
    "df_set1.groupby('Category').apply(lambda x : x.sort_values(by = 'Rating', ascending = False).head(2).reset_index(drop = True))\n"
   ]
  },
  {
   "cell_type": "code",
   "execution_count": 240,
   "id": "42532d59",
   "metadata": {},
   "outputs": [
    {
     "data": {
      "text/plain": [
       "<AxesSubplot:>"
      ]
     },
     "execution_count": 240,
     "metadata": {},
     "output_type": "execute_result"
    },
    {
     "data": {
      "image/png": "[encoded data removed]",
      "text/plain": [
       "<Figure size 432x288 with 1 Axes>"
      ]
     },
     "metadata": {
      "needs_background": "light"
     },
     "output_type": "display_data"
    }
   ],
   "source": [
    "#Looking at the number of restaurants in each category, Dessert is the most popular\n",
    "df_new[\"Category\"].value_counts().head(10).plot.barh()"
   ]
  },
  {
   "cell_type": "code",
   "execution_count": 280,
   "id": "894435ca",
   "metadata": {},
   "outputs": [
    {
     "data": {
      "text/plain": [
       "Area\n",
       "Napean Sea Road       4.8\n",
       "Shivaji Park          4.7\n",
       "Dr Annie Besant Rd    4.7\n",
       "Churchgate            4.7\n",
       "Matunga West          4.6\n",
       "Mahim Dadar           4.6\n",
       "Fort Area             4.6\n",
       "Mahalaxmi Area        4.5\n",
       "Matunga Wadala        4.5\n",
       "Lower Parel Area      4.5\n",
       "Name: Rating, dtype: float64"
      ]
     },
     "execution_count": 280,
     "metadata": {},
     "output_type": "execute_result"
    },
    {
     "data": {
      "image/png": "[encoded data removed]",
      "text/plain": [
       "<Figure size 432x288 with 1 Axes>"
      ]
     },
     "metadata": {
      "needs_background": "light"
     },
     "output_type": "display_data"
    }
   ],
   "source": [
    "#Find 1)Areas with lots of options 2)Areas with Best Ratings in Mumbai for Dessert\n",
    "new_df = df_set1[df_set1['Category'].str.contains('dessert')]\n",
    "new_df[\"Area\"].value_counts().sort_values(ascending=False).head(10).plot.barh() #Most Options\n",
    "new_df = new_df.dropna()\n",
    "new_df.groupby(\"Area\")[\"Rating\"].mean().round(decimals=1).sort_values(ascending=False).head(10) # Best Ratings"
   ]
  },
  {
   "cell_type": "code",
   "execution_count": 269,
   "id": "962eef0b",
   "metadata": {},
   "outputs": [
    {
     "data": {
      "text/plain": [
       "Category\n",
       "Desserts                                      34\n",
       "Indian                                        20\n",
       "Desserts,Bakery                               18\n",
       "Indian,Chinese                                14\n",
       "Italian                                       13\n",
       "                                              ..\n",
       "Fast Food,Snacks                               1\n",
       "Fast Food,Salads,Snacks,Desserts,Beverages     1\n",
       "Fast Food,Pizzas,Lebanese                      1\n",
       "Fast Food,North Indian,Desserts                1\n",
       "Vietnamese,Asian,Healthy Food                  1\n",
       "Length: 389, dtype: int64"
      ]
     },
     "execution_count": 269,
     "metadata": {},
     "output_type": "execute_result"
    }
   ],
   "source": [
    "df_set1.groupby([\"Category\"]).size().sort_values(ascending=False)"
   ]
  },
  {
   "cell_type": "code",
   "execution_count": 129,
   "id": "c415dee8",
   "metadata": {
    "scrolled": true
   },
   "outputs": [],
   "source": []
  },
  {
   "cell_type": "code",
   "execution_count": 99,
   "id": "5a083bf4",
   "metadata": {},
   "outputs": [],
   "source": [
    "df_list = df_set1.groupby(\"Area\").size().sort_values(ascending=False)"
   ]
  },
  {
   "cell_type": "code",
   "execution_count": 127,
   "id": "965dec23",
   "metadata": {},
   "outputs": [],
   "source": [
    "df_set1.to_csv('Locality_list.csv')"
   ]
  },
  {
   "cell_type": "code",
   "execution_count": 98,
   "id": "212b10b2",
   "metadata": {},
   "outputs": [
    {
     "data": {
      "text/html": [
       "<div>\n",
       "<style scoped>\n",
       "    .dataframe tbody tr th:only-of-type {\n",
       "        vertical-align: middle;\n",
       "    }\n",
       "\n",
       "    .dataframe tbody tr th {\n",
       "        vertical-align: top;\n",
       "    }\n",
       "\n",
       "    .dataframe thead th {\n",
       "        text-align: right;\n",
       "    }\n",
       "</style>\n",
       "<table border=\"1\" class=\"dataframe\">\n",
       "  <thead>\n",
       "    <tr style=\"text-align: right;\">\n",
       "      <th></th>\n",
       "      <th>Restaurant Name</th>\n",
       "      <th>Category</th>\n",
       "      <th>Rating</th>\n",
       "      <th>Cost for two</th>\n",
       "      <th>Veg</th>\n",
       "      <th>city</th>\n",
       "      <th>Area</th>\n",
       "      <th>Locality</th>\n",
       "      <th>Address</th>\n",
       "      <th>Long Distance Delivery</th>\n",
       "    </tr>\n",
       "  </thead>\n",
       "  <tbody>\n",
       "    <tr>\n",
       "      <th>1442</th>\n",
       "      <td>BAKE STUDIO</td>\n",
       "      <td>Desserts</td>\n",
       "      <td>3.8</td>\n",
       "      <td>200</td>\n",
       "      <td>True</td>\n",
       "      <td>Mumbai</td>\n",
       "      <td>Mumbai</td>\n",
       "      <td>Byculla</td>\n",
       "      <td>M.S. Ali Road, 2 Tank, J.J, Byculla, Mumbai</td>\n",
       "      <td>0</td>\n",
       "    </tr>\n",
       "    <tr>\n",
       "      <th>1429</th>\n",
       "      <td>Smokin' Joe's</td>\n",
       "      <td>Pizzas</td>\n",
       "      <td>3.9</td>\n",
       "      <td>500</td>\n",
       "      <td>False</td>\n",
       "      <td>Mumbai</td>\n",
       "      <td>Mumbai</td>\n",
       "      <td>Next to Hasnabad, Mazgaon, Byculla</td>\n",
       "      <td>8, AL HAFIZ MANZIL, OPP TO BATA SHOWROOM NEAR ...</td>\n",
       "      <td>0</td>\n",
       "    </tr>\n",
       "    <tr>\n",
       "      <th>1444</th>\n",
       "      <td>Jilani Fast Food Corner</td>\n",
       "      <td>Lucknowi,Mughlai</td>\n",
       "      <td>4.1</td>\n",
       "      <td>350</td>\n",
       "      <td>False</td>\n",
       "      <td>Mumbai</td>\n",
       "      <td>Mumbai</td>\n",
       "      <td>Khara Tank Road</td>\n",
       "      <td>121/129, Kanchwala Bldg., Ground Floor, Next t...</td>\n",
       "      <td>0</td>\n",
       "    </tr>\n",
       "    <tr>\n",
       "      <th>1497</th>\n",
       "      <td>The Momo Factory</td>\n",
       "      <td>North Indian</td>\n",
       "      <td>4.1</td>\n",
       "      <td>300</td>\n",
       "      <td>False</td>\n",
       "      <td>Mumbai</td>\n",
       "      <td>Mumbai</td>\n",
       "      <td>Mazgaon</td>\n",
       "      <td>Shop no 3,Sunder Apt, Nesbit road,opp GST bhav...</td>\n",
       "      <td>0</td>\n",
       "    </tr>\n",
       "    <tr>\n",
       "      <th>1979</th>\n",
       "      <td>6th Street Yogurt</td>\n",
       "      <td>Desserts</td>\n",
       "      <td>4.4</td>\n",
       "      <td>200</td>\n",
       "      <td>False</td>\n",
       "      <td>Mumbai</td>\n",
       "      <td>Mumbai</td>\n",
       "      <td>Warden Road</td>\n",
       "      <td>Chinoy Mansion, Bomanjee Petit Lane, 162, Ward...</td>\n",
       "      <td>0</td>\n",
       "    </tr>\n",
       "    <tr>\n",
       "      <th>2345</th>\n",
       "      <td>Aaswad</td>\n",
       "      <td>Maharashtrian,South Indian,Street Food,Desserts</td>\n",
       "      <td>4.5</td>\n",
       "      <td>300</td>\n",
       "      <td>False</td>\n",
       "      <td>Mumbai</td>\n",
       "      <td>Mumbai</td>\n",
       "      <td>Dadar Shivaji Park</td>\n",
       "      <td>4 sanskruti, LJ road gadkari chowk, dadar Muma...</td>\n",
       "      <td>1</td>\n",
       "    </tr>\n",
       "    <tr>\n",
       "      <th>2543</th>\n",
       "      <td>Matunga Dabeli</td>\n",
       "      <td>Fast Food</td>\n",
       "      <td>4.5</td>\n",
       "      <td>60</td>\n",
       "      <td>True</td>\n",
       "      <td>Mumbai</td>\n",
       "      <td>Mumbai</td>\n",
       "      <td>Meckoni House</td>\n",
       "      <td>Matunga Dabeli 389 ground floor Meckoni House ...</td>\n",
       "      <td>1</td>\n",
       "    </tr>\n",
       "  </tbody>\n",
       "</table>\n",
       "</div>"
      ],
      "text/plain": [
       "              Restaurant Name  \\\n",
       "1442              BAKE STUDIO   \n",
       "1429            Smokin' Joe's   \n",
       "1444  Jilani Fast Food Corner   \n",
       "1497         The Momo Factory   \n",
       "1979        6th Street Yogurt   \n",
       "2345                   Aaswad   \n",
       "2543           Matunga Dabeli   \n",
       "\n",
       "                                             Category  Rating  Cost for two  \\\n",
       "1442                                         Desserts     3.8           200   \n",
       "1429                                           Pizzas     3.9           500   \n",
       "1444                                 Lucknowi,Mughlai     4.1           350   \n",
       "1497                                     North Indian     4.1           300   \n",
       "1979                                         Desserts     4.4           200   \n",
       "2345  Maharashtrian,South Indian,Street Food,Desserts     4.5           300   \n",
       "2543                                        Fast Food     4.5            60   \n",
       "\n",
       "        Veg    city    Area                            Locality  \\\n",
       "1442   True  Mumbai  Mumbai                             Byculla   \n",
       "1429  False  Mumbai  Mumbai  Next to Hasnabad, Mazgaon, Byculla   \n",
       "1444  False  Mumbai  Mumbai                     Khara Tank Road   \n",
       "1497  False  Mumbai  Mumbai                             Mazgaon   \n",
       "1979  False  Mumbai  Mumbai                         Warden Road   \n",
       "2345  False  Mumbai  Mumbai                  Dadar Shivaji Park   \n",
       "2543   True  Mumbai  Mumbai                       Meckoni House   \n",
       "\n",
       "                                                Address  \\\n",
       "1442        M.S. Ali Road, 2 Tank, J.J, Byculla, Mumbai   \n",
       "1429  8, AL HAFIZ MANZIL, OPP TO BATA SHOWROOM NEAR ...   \n",
       "1444  121/129, Kanchwala Bldg., Ground Floor, Next t...   \n",
       "1497  Shop no 3,Sunder Apt, Nesbit road,opp GST bhav...   \n",
       "1979  Chinoy Mansion, Bomanjee Petit Lane, 162, Ward...   \n",
       "2345  4 sanskruti, LJ road gadkari chowk, dadar Muma...   \n",
       "2543  Matunga Dabeli 389 ground floor Meckoni House ...   \n",
       "\n",
       "      Long Distance Delivery  \n",
       "1442                       0  \n",
       "1429                       0  \n",
       "1444                       0  \n",
       "1497                       0  \n",
       "1979                       0  \n",
       "2345                       1  \n",
       "2543                       1  "
      ]
     },
     "execution_count": 98,
     "metadata": {},
     "output_type": "execute_result"
    }
   ],
   "source": [
    "#df_set1.sort_values(by=['Rating'])\n",
    "#df_set1.plot.scatter(x = 'Area', y = 'Rating', s = 100)"
   ]
  },
  {
   "cell_type": "code",
   "execution_count": null,
   "id": "20df92cd",
   "metadata": {},
   "outputs": [],
   "source": []
  }
 ],
 "metadata": {
  "kernelspec": {
   "display_name": "Python 3 (ipykernel)",
   "language": "python",
   "name": "python3"
  },
  "language_info": {
   "codemirror_mode": {
    "name": "ipython",
    "version": 3
   },
   "file_extension": ".py",
   "mimetype": "text/x-python",
   "name": "python",
   "nbconvert_exporter": "python",
   "pygments_lexer": "ipython3",
   "version": "3.9.7"
  }
 },
 "nbformat": 4,
 "nbformat_minor": 5
}
